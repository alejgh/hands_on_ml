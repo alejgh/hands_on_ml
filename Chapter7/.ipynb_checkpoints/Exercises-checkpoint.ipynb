{
 "cells": [
  {
   "cell_type": "markdown",
   "metadata": {},
   "source": [
    "# Chapter 7: Ensemble Learning and Random Forests"
   ]
  },
  {
   "cell_type": "markdown",
   "metadata": {},
   "source": [
    "## Exercise 1\n",
    "If you have trained five different models on the exact same training data, and they all achieve 95% precision, is there any chance that you can combine these models to get better results? If so, how? If not, why?"
   ]
  },
  {
   "cell_type": "markdown",
   "metadata": {},
   "source": [
    "Yes, you can combine the models to get even better results. You can use a voting classifier that takes into account the prediction of each of the models before making a final prediction. If the models are independent, or trained on different subsets of the data, you can obtain even better results."
   ]
  },
  {
   "cell_type": "markdown",
   "metadata": {},
   "source": [
    "## Exercise 2\n",
    "What is the difference between hard and soft voting classifiers?"
   ]
  },
  {
   "cell_type": "markdown",
   "metadata": {},
   "source": [
    "A hard voting classifier takes into account just the votes of each classifier inside the ensemble in order to make the final prediction. A soft voting classifier also takes into account the confidence score of each classifier for the prediction, giving more weight to highly confident votes (and usually increasing the performance of the classifier)."
   ]
  },
  {
   "cell_type": "markdown",
   "metadata": {},
   "source": [
    "## Exercise 3\n",
    "Is it possible to speed up training of a bagging ensemble by distributing it across multiple servers? What about pasting ensembles, boosting ensembles, random forest, or stacking ensembles?"
   ]
  },
  {
   "cell_type": "markdown",
   "metadata": {},
   "source": [
    "Bagging ensembles, pasting ensembles and random forests can be distributed across multiple servers, since each predictor in the ensemble is independent from the others. Boosting ensembles cannot be distributed, because each predictor is built based on the previous predictor. Finally, stacking ensembles can only by distributed for a given layer, since all the predictors of one layer depend on the previous layer."
   ]
  },
  {
   "cell_type": "markdown",
   "metadata": {},
   "source": [
    "## Exercise 4\n",
    "What is the benefit of out-of-bag evaluation?"
   ]
  },
  {
   "cell_type": "markdown",
   "metadata": {},
   "source": [
    "With out-of-bag evaluation, each predictor in a bagging ensemble is evaluated using instances that it was not trained on. This makes it possible to have a fairly unbiased evaluation of the ensemble without the need for an additional validation set. Thus, you have more instances available for training, and your ensemble can perform slightly better."
   ]
  },
  {
   "cell_type": "markdown",
   "metadata": {},
   "source": [
    "## Exercise 5\n",
    "What makes Extra-Trees more random than regular Random Forests? How can this extra randomness help? Are Extra-Trees slower or faster than regular Random Forests?"
   ]
  },
  {
   "cell_type": "markdown",
   "metadata": {},
   "source": [
    "Extra-Trees use random thresholds for each feature on each node instead of searching for the best possible thresholds. This randomness trades more bias for a lower variance. Extra-Trees are faster that regular Random Forests, since you don't need to calculate the best possible threshold at each node."
   ]
  },
  {
   "cell_type": "markdown",
   "metadata": {},
   "source": [
    "## Exercise 6\n",
    "If your AdaBoost ensemble underfits the training data, what hyperparameters should you tweak and how?"
   ]
  },
  {
   "cell_type": "markdown",
   "metadata": {},
   "source": [
    "You can try increasing the number of estimators or reducing the regularization hyperparameter of the base estimator."
   ]
  },
  {
   "cell_type": "markdown",
   "metadata": {},
   "source": [
    "## Exercise 7\n",
    "If your Gradient Boosting ensemble overfits the training set, should you increase or decrease the learning rate?"
   ]
  },
  {
   "cell_type": "markdown",
   "metadata": {},
   "source": [
    "You can try decreasing the learning rate, or using early stopping to find the right number of predictors."
   ]
  },
  {
   "cell_type": "markdown",
   "metadata": {},
   "source": [
    "## Exercise 8\n",
    "Load the MNIST data, and split it into a training set, a validation set, and a test set. Then train various classifiers, such as Random Forest classifier, an Extra-Trees classifier, and an SVM. Next, try to combine them into an ensemble that outperforms them all on the validation set, using a soft or hard voting classifier. Once you have found one, try it on the test set. How much better does it perform compared to the individual classifiers?"
   ]
  },
  {
   "cell_type": "markdown",
   "metadata": {},
   "source": [
    "### Getting the data"
   ]
  },
  {
   "cell_type": "code",
   "execution_count": 59,
   "metadata": {},
   "outputs": [],
   "source": [
    "from sklearn.datasets import load_digits\n",
    "from sklearn.model_selection import train_test_split\n",
    "\n",
    "import numpy as np\n",
    "\n",
    "\n",
    "RANDOM_SEED = 42\n",
    "\n",
    "digits = load_digits()\n",
    "X, y = digits['data'], digits['target']\n",
    "X_train, X_test, y_train, y_test = train_test_split(X, y, test_size=0.2, random_state=RANDOM_SEED)"
   ]
  },
  {
   "cell_type": "markdown",
   "metadata": {},
   "source": [
    "### Training the classifiers"
   ]
  },
  {
   "cell_type": "code",
   "execution_count": 67,
   "metadata": {},
   "outputs": [
    {
     "data": {
      "text/plain": [
       "GridSearchCV(cv=None, error_score='raise',\n",
       "       estimator=ExtraTreesClassifier(bootstrap=False, class_weight=None, criterion='gini',\n",
       "           max_depth=None, max_features='auto', max_leaf_nodes=None,\n",
       "           min_impurity_decrease=0.0, min_impurity_split=None,\n",
       "           min_samples_leaf=1, min_samples_split=2,\n",
       "           min_weight_fraction_leaf=0.0, n_estimators=10, n_jobs=1,\n",
       "           oob_score=False, random_state=None, verbose=0, warm_start=False),\n",
       "       fit_params=None, iid=True, n_jobs=1,\n",
       "       param_grid={'n_estimators': [3, 10, 20, 42, 75, 100], 'min_weight_fraction_leaf': [0.01, 0.03, 0.1, 0.33], 'bootstrap': [False, True]},\n",
       "       pre_dispatch='2*n_jobs', refit=True, return_train_score='warn',\n",
       "       scoring=None, verbose=0)"
      ]
     },
     "execution_count": 67,
     "metadata": {},
     "output_type": "execute_result"
    }
   ],
   "source": [
    "from sklearn.svm import SVC\n",
    "from sklearn.ensemble import RandomForestClassifier, ExtraTreesClassifier\n",
    "from sklearn.model_selection import cross_val_score, GridSearchCV\n",
    "\n",
    "params_svm = {\n",
    "    'C': [0.11, 0.33, 1, 3, 10, 33, 100],\n",
    "    'gamma': ['auto', 0.11, 0.33, 1, 3, 10, 33, 100],\n",
    "    'kernel': ('rbf', 'linear', 'poly'),\n",
    "    'probability': [True]\n",
    "}\n",
    "svm_clf = SVC()\n",
    "svm_grid = GridSearchCV(svm_clf, params_svm)\n",
    "svm_grid.fit(X_train, y_train)\n",
    "\n",
    "params_rf = {\n",
    "    'n_estimators': [3, 10, 20, 42, 75, 100],\n",
    "    'min_weight_fraction_leaf': [0.01, 0.03, 0.1, 0.33],\n",
    "    'bootstrap': [False, True]\n",
    "}\n",
    "rf_clf = RandomForestClassifier()\n",
    "rf_grid = GridSearchCV(rf_clf, params_rf)\n",
    "rf_grid.fit(X_train, y_train)\n",
    "\n",
    "params_et = params_rf\n",
    "et_clf = ExtraTreesClassifier()\n",
    "et_grid = GridSearchCV(et_clf, params_et)\n",
    "et_grid.fit(X_train, y_train)"
   ]
  },
  {
   "cell_type": "markdown",
   "metadata": {},
   "source": [
    "### Measuring the performance of the best classifiers"
   ]
  },
  {
   "cell_type": "code",
   "execution_count": 68,
   "metadata": {},
   "outputs": [
    {
     "name": "stdout",
     "output_type": "stream",
     "text": [
      "Score of SVM classifier: 0.985\n",
      "Score of Random Forest classifier: 0.951\n",
      "Score of Extra-Trees classifier: 0.955\n"
     ]
    }
   ],
   "source": [
    "best_svm = svm_grid.best_estimator_\n",
    "best_rf = rf_grid.best_estimator_\n",
    "best_et = et_grid.best_estimator_\n",
    "print('Score of SVM classifier: {:.3f}'.format(svm_grid.best_score_))\n",
    "print('Score of Random Forest classifier: {:.3f}'.format(rf_grid.best_score_))\n",
    "print('Score of Extra-Trees classifier: {:.3f}'.format(et_grid.best_score_))"
   ]
  },
  {
   "cell_type": "markdown",
   "metadata": {},
   "source": [
    "### Training the Voting classifier"
   ]
  },
  {
   "cell_type": "code",
   "execution_count": 69,
   "metadata": {},
   "outputs": [
    {
     "data": {
      "text/plain": [
       "GridSearchCV(cv=None, error_score='raise',\n",
       "       estimator=VotingClassifier(estimators=[('svm', SVC(C=0.11, cache_size=200, class_weight=None, coef0=0.0,\n",
       "  decision_function_shape='ovr', degree=3, gamma='auto', kernel='poly',\n",
       "  max_iter=-1, probability=True, random_state=None, shrinking=True,\n",
       "  tol=0.001, verbose=False)), ('rf', RandomForestClassi...bose=0, warm_start=False))],\n",
       "         flatten_transform=None, n_jobs=1, voting='hard', weights=None),\n",
       "       fit_params=None, iid=True, n_jobs=1,\n",
       "       param_grid={'voting': ('soft', 'hard'), 'weights': [[2, 1, 1], [1, 2, 2], [1, 2, 1], [1, 1, 2], [2, 2, 1], [2, 1, 2]]},\n",
       "       pre_dispatch='2*n_jobs', refit=True, return_train_score='warn',\n",
       "       scoring=None, verbose=0)"
      ]
     },
     "execution_count": 69,
     "metadata": {},
     "output_type": "execute_result"
    }
   ],
   "source": [
    "from sklearn.ensemble import VotingClassifier\n",
    "from sklearn.model_selection import cross_val_score\n",
    "\n",
    "estimators = [('svm', best_svm), ('rf', best_rf), ('et', best_et)]\n",
    "\n",
    "params_voting = {\n",
    "    'voting': ('soft', 'hard'),\n",
    "    'weights': [[2, 1, 1], [1, 2, 2], [1, 2, 1], [1, 1, 2], [2, 2, 1], [2, 1, 2]],\n",
    "}\n",
    "voting_clf = VotingClassifier(estimators)\n",
    "voting_clf_grid = GridSearchCV(voting_clf, params_voting)\n",
    "voting_clf_grid.fit(X_train, y_train)"
   ]
  },
  {
   "cell_type": "markdown",
   "metadata": {},
   "source": [
    "### Measuring the performance of the voting classifier"
   ]
  },
  {
   "cell_type": "code",
   "execution_count": 70,
   "metadata": {},
   "outputs": [
    {
     "name": "stdout",
     "output_type": "stream",
     "text": [
      "Score of Voting classifier: 0.985\n"
     ]
    }
   ],
   "source": [
    "best_voting = voting_clf_grid.best_estimator_\n",
    "print('Score of Voting classifier: {:.3f}'.format(voting_clf_grid.best_score_))"
   ]
  },
  {
   "cell_type": "markdown",
   "metadata": {},
   "source": [
    "## Exercise 9\n",
    "Run the individual classifiers from the preious exercise to make predictions on the validation set, and create a new training set with the resulting predictions: each training instance is a vector containing the set of predictions from all your classifiers for an image, and the target is the image's class. For each image in the test set, make predictions with all your classifiers, then feed the predictions to the blender to get the ensemble's predictions. How does it compare to the voting classifier you trained earlier?"
   ]
  },
  {
   "cell_type": "code",
   "execution_count": null,
   "metadata": {},
   "outputs": [],
   "source": []
  }
 ],
 "metadata": {
  "kernelspec": {
   "display_name": "Python 3",
   "language": "python",
   "name": "python3"
  },
  "language_info": {
   "codemirror_mode": {
    "name": "ipython",
    "version": 3
   },
   "file_extension": ".py",
   "mimetype": "text/x-python",
   "name": "python",
   "nbconvert_exporter": "python",
   "pygments_lexer": "ipython3",
   "version": "3.6.4"
  }
 },
 "nbformat": 4,
 "nbformat_minor": 2
}
