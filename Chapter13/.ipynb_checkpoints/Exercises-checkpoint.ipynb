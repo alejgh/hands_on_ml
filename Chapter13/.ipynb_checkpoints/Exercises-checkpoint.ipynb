{
 "cells": [
  {
   "cell_type": "markdown",
   "metadata": {},
   "source": [
    "# Chapter 13: Convolutional Neural Networks"
   ]
  },
  {
   "cell_type": "markdown",
   "metadata": {},
   "source": [
    "## Exercise 1\n",
    "What are the advantages of a CNN over a fully connected DNN for image classification?"
   ]
  },
  {
   "cell_type": "markdown",
   "metadata": {},
   "source": [
    "First of all, CNN's require a lot less parameters than fully connected DNN's. When working with images this can be really noticeable: imagine we have 800x600 pixels images as input, with 3 channels each (RGB). With a fully connected network with a hidden layer of 1000 neurons we will have $800*600*3*1000 = 1.44 * 10^9$ weights to tweak. On the other hand, a CNN with a convolutional layer of 1000 feature maps and a kernel of size 5x5 will have only $5*5*3*1000 = 7.5 * 10^4$ weights.\n",
    "Another advantage of CNN's is that each neuron only is influenced by some neighbouring neurons (receptive field) of the previous layer. This allow the network to concentrate on low-level features on the lower layers, and combine them into higher level features in the following layers. This works really well with real world images."
   ]
  },
  {
   "cell_type": "markdown",
   "metadata": {},
   "source": [
    "## Exercise 2\n",
    "Consider a CNN composed of three convolutional layers, each with 3x3 kernels, a stride of 2 and same padding. The lowest layer outputs 100 feature maps, the middle one outputs 200, and the top one outputs 400. The input images are RGB images of 200x300 pixels. What is the total number of parameters in the CNN? If we are using 32-bit floats, at least how much RAM will this network require when making a prediction for a single instance? What about when training on a mini-batch of 50 images?"
   ]
  },
  {
   "cell_type": "markdown",
   "metadata": {},
   "source": [
    "Let's start with the total number of parameters. The first layer will have $(3*3*3+1)*100 = 2800$ parameters, the second $(3*3*100+1)*200 = 180200$ and the third $(3*3*200+1)*400 = 720400$, so the total number of parameters will be $2800 + 180200 + 720400 = 903400$<br>\n",
    "If we are using 32-bit floats, the network will require $((100*100*150) + (200*50*75) + (400*25*37)) * 32 = 83.84 * 10^6$ bits of RAM (around 10MB). If we trin a minibatch of 50 images, it will require 500MB or RAM (10 * 50)."
   ]
  },
  {
   "cell_type": "markdown",
   "metadata": {},
   "source": [
    "## Exercise 3\n",
    "If your GPU runs out of memory while training a CNN, what are five things you could try to solve the problem?"
   ]
  },
  {
   "cell_type": "markdown",
   "metadata": {},
   "source": [
    "<ol>\n",
    "    <li>You can use a different data type that requires less bits to store the data (e.g. if you are using 32 bit floats to store each neuron values, try using 16 bit floats).</li>\n",
    "    <li>You can try to reduce the mini-batch size.</li>\n",
    "    <li>Another solution could be to use strides to reduce the amount of data that reaches higher layers.</li>\n",
    "    <li>You can also remove some layers</li>\n",
    "    <li>There is also the possibility of distributing the network across multiple devices.</li>\n",
    "</ol>"
   ]
  },
  {
   "cell_type": "markdown",
   "metadata": {},
   "source": [
    "## Exercise 4\n",
    "Why would you want to add a max pooling layer rather than a convolutional layer with the same stride?"
   ]
  },
  {
   "cell_type": "markdown",
   "metadata": {},
   "source": [
    "Max pooling layers are made to reduce the computational load of the network by shrinking the input they receive. They don't have weights like convolutional layers."
   ]
  },
  {
   "cell_type": "markdown",
   "metadata": {},
   "source": [
    "## Exercise 5\n",
    "When would you want to add a <i>local response normalization layer</i>?"
   ]
  },
  {
   "cell_type": "markdown",
   "metadata": {},
   "source": [
    "In order to improve generalization."
   ]
  },
  {
   "cell_type": "markdown",
   "metadata": {},
   "source": [
    "## Exercise 6\n",
    "Can you name the main innovations in AlexNet, compared to LeNet-5? What about the main innovations in GoogLeNet and ResNet?"
   ]
  },
  {
   "cell_type": "markdown",
   "metadata": {},
   "source": [
    "The main innovations in AlexNet were to concatenate multiple convolutional layers in top of each other (in LeNet-5 each convolutional layer was followed by a pooling layer), adding local response normalization to some of the convolutional layers, and dropout to the fully connected layers.<br>\n",
    "The main innovations in GoogLeNet were creating a much deeper CNN thanks to the inception modules, and adding convolutional layers with a kernel size of 1x1 to serve as bottleneck layers.<br>\n",
    "Finally, ResNet added skip connections and residual leraning."
   ]
  },
  {
   "cell_type": "markdown",
   "metadata": {},
   "source": [
    "## Exercise 7\n",
    "Build your own CNN and try to achieve the highest possible accuracy on MNIST."
   ]
  },
  {
   "cell_type": "code",
   "execution_count": 1,
   "metadata": {},
   "outputs": [
    {
     "name": "stdout",
     "output_type": "stream",
     "text": [
      "Extracting MNIST_data/train-images-idx3-ubyte.gz\n",
      "Extracting MNIST_data/train-labels-idx1-ubyte.gz\n",
      "Extracting MNIST_data/t10k-images-idx3-ubyte.gz\n",
      "Extracting MNIST_data/t10k-labels-idx1-ubyte.gz\n"
     ]
    }
   ],
   "source": [
    "from MnistData import MnistData\n",
    "\n",
    "%matplotlib inline\n",
    "\n",
    "mnist = MnistData.get_LeNet_data(one_hot=False)"
   ]
  },
  {
   "cell_type": "markdown",
   "metadata": {},
   "source": [
    "Let's see if the mnist data prepared for the LeNet architecture looks good (it is padded with 0's to have 32x32 pixels)."
   ]
  },
  {
   "cell_type": "code",
   "execution_count": 2,
   "metadata": {
    "scrolled": true
   },
   "outputs": [
    {
     "data": {
      "text/plain": [
       "7"
      ]
     },
     "execution_count": 2,
     "metadata": {},
     "output_type": "execute_result"
    },
    {
     "data": {
      "image/png": "[encoded data removed]",
      "text/plain": [
       "<Figure size 432x288 with 1 Axes>"
      ]
     },
     "metadata": {},
     "output_type": "display_data"
    }
   ],
   "source": [
    "import numpy as np\n",
    "import matplotlib.pyplot as plt\n",
    "\n",
    "\n",
    "def visualize(digit, img_width, img_height):\n",
    "    digit2d = np.reshape(digit, (img_width, img_height))\n",
    "    plt.imshow(digit2d, cmap='summer')\n",
    "    \n",
    "visualize(mnist.train.images[0], 32, 32)\n",
    "mnist.train.labels[0]"
   ]
  },
  {
   "cell_type": "markdown",
   "metadata": {},
   "source": [
    "Looks good :)"
   ]
  },
  {
   "cell_type": "code",
   "execution_count": 3,
   "metadata": {},
   "outputs": [
    {
     "name": "stdout",
     "output_type": "stream",
     "text": [
      "0 - Loss: 0.107649 - Best loss: 0.1076492 - Accuracy: 0.967\n",
      "1 - Loss: 0.075342 - Best loss: 0.0753418 - Accuracy: 0.977\n",
      "2 - Loss: 0.064524 - Best loss: 0.0645238 - Accuracy: 0.980\n",
      "3 - Loss: 0.057055 - Best loss: 0.0570546 - Accuracy: 0.982\n",
      "4 - Loss: 0.052431 - Best loss: 0.0524311 - Accuracy: 0.985\n",
      "5 - Loss: 0.047797 - Best loss: 0.0477969 - Accuracy: 0.985\n",
      "6 - Loss: 0.048230 - Best loss: 0.0477969 - Accuracy: 0.987\n",
      "7 - Loss: 0.047138 - Best loss: 0.0471382 - Accuracy: 0.987\n",
      "8 - Loss: 0.049032 - Best loss: 0.0471382 - Accuracy: 0.987\n",
      "9 - Loss: 0.053635 - Best loss: 0.0471382 - Accuracy: 0.987\n",
      "10 - Loss: 0.050232 - Best loss: 0.0471382 - Accuracy: 0.988\n",
      "11 - Loss: 0.042459 - Best loss: 0.0424588 - Accuracy: 0.990\n",
      "12 - Loss: 0.050992 - Best loss: 0.0424588 - Accuracy: 0.987\n",
      "13 - Loss: 0.056658 - Best loss: 0.0424588 - Accuracy: 0.986\n",
      "14 - Loss: 0.048618 - Best loss: 0.0424588 - Accuracy: 0.987\n",
      "15 - Loss: 0.039781 - Best loss: 0.0397815 - Accuracy: 0.990\n",
      "16 - Loss: 0.049549 - Best loss: 0.0397815 - Accuracy: 0.988\n",
      "17 - Loss: 0.045780 - Best loss: 0.0397815 - Accuracy: 0.989\n",
      "18 - Loss: 0.052491 - Best loss: 0.0397815 - Accuracy: 0.988\n",
      "19 - Loss: 0.048068 - Best loss: 0.0397815 - Accuracy: 0.989\n",
      "20 - Loss: 0.041270 - Best loss: 0.0397815 - Accuracy: 0.991\n",
      "21 - Loss: 0.048875 - Best loss: 0.0397815 - Accuracy: 0.989\n",
      "22 - Loss: 0.047602 - Best loss: 0.0397815 - Accuracy: 0.988\n",
      "23 - Loss: 0.041445 - Best loss: 0.0397815 - Accuracy: 0.991\n",
      "24 - Loss: 0.044478 - Best loss: 0.0397815 - Accuracy: 0.991\n",
      "25 - Loss: 0.047727 - Best loss: 0.0397815 - Accuracy: 0.991\n",
      "26 - Loss: 0.044846 - Best loss: 0.0397815 - Accuracy: 0.991\n",
      "27 - Loss: 0.051091 - Best loss: 0.0397815 - Accuracy: 0.992\n",
      "28 - Loss: 0.071906 - Best loss: 0.0397815 - Accuracy: 0.986\n",
      "29 - Loss: 0.041887 - Best loss: 0.0397815 - Accuracy: 0.991\n",
      "30 - Loss: 0.046641 - Best loss: 0.0397815 - Accuracy: 0.991\n",
      "31 - Loss: 0.053190 - Best loss: 0.0397815 - Accuracy: 0.989\n",
      "32 - Loss: 0.051509 - Best loss: 0.0397815 - Accuracy: 0.990\n",
      "33 - Loss: 0.052846 - Best loss: 0.0397815 - Accuracy: 0.988\n",
      "34 - Loss: 0.048065 - Best loss: 0.0397815 - Accuracy: 0.992\n",
      "No progress after 20 epochs. Stopping...\n"
     ]
    }
   ],
   "source": [
    "from LeNet import LeNet\n",
    "\n",
    "leNet = LeNet()\n",
    "leNet.fit(mnist.train.images, mnist.train.labels)"
   ]
  },
  {
   "cell_type": "code",
   "execution_count": 6,
   "metadata": {},
   "outputs": [
    {
     "name": "stdout",
     "output_type": "stream",
     "text": [
      "Final accuracy: 98.920\n"
     ]
    }
   ],
   "source": [
    "from sklearn.metrics import accuracy_score\n",
    "\n",
    "y_pred = leNet.predict(mnist.test.images)\n",
    "test_accuracy = accuracy_score(y_pred, mnist.test.labels)\n",
    "print('Final accuracy: {:.3f}'.format(test_accuracy * 100))"
   ]
  },
  {
   "cell_type": "markdown",
   "metadata": {},
   "source": [
    "## Exercise 8\n",
    "Classifying large images using Inception v3:\n",
    "* Download some images of various animals. Load them in Python, for example using the <i>matplotlib.image.pmimg.imread()</i> function or the <i>scipy.misc.imread()</i> function. Resize and/or crop them to 299x299 picels and ensure that they have just three channels (RGB), with no transparency channel."
   ]
  },
  {
   "cell_type": "code",
   "execution_count": null,
   "metadata": {},
   "outputs": [],
   "source": []
  },
  {
   "cell_type": "markdown",
   "metadata": {},
   "source": [
    "* Download the latest pretrained Inception v3 model: the checkpoint is available at https://goo.gl/nxSQvl"
   ]
  },
  {
   "cell_type": "code",
   "execution_count": null,
   "metadata": {},
   "outputs": [],
   "source": []
  },
  {
   "cell_type": "markdown",
   "metadata": {},
   "source": [
    "* Create the Inception v3 model by calling the <i>inception_v3()</i> function, as shown below. This must be done within an argument scope created by the <i>inception_v3_arg_scope()</i> function. Also, you must set <i>is_training=False</i> and <i>num_classes=1001</i>."
   ]
  },
  {
   "cell_type": "code",
   "execution_count": null,
   "metadata": {},
   "outputs": [],
   "source": []
  },
  {
   "cell_type": "markdown",
   "metadata": {},
   "source": [
    "* Open a session and use the Saver to restore the pretrained model checkpoint you downloaded earlier."
   ]
  },
  {
   "cell_type": "code",
   "execution_count": null,
   "metadata": {},
   "outputs": [],
   "source": []
  },
  {
   "cell_type": "markdown",
   "metadata": {},
   "source": [
    "* Run the model to classify the images you prepared. Display the top five predictions for each image, along with the estimated probability (the list of class names is available at https://goo.gl/brXRtZ). How accurate is the model?"
   ]
  },
  {
   "cell_type": "code",
   "execution_count": null,
   "metadata": {},
   "outputs": [],
   "source": []
  },
  {
   "cell_type": "markdown",
   "metadata": {},
   "source": [
    "## Exercise 9\n",
    "Transfer learning for large image classification.\n",
    "* Create a trining set containing at least 100 images per class. For example, you could classify your own pictures based on the location (beach, mountain, city, etc.), opr alternatively you can just use an existing dataset, such as the flowers dataset (https://goo.gl/EgJVXZ) or MIT's places dataset (http://places.csail.mit.edu/) (requires registration, and it is huge)."
   ]
  },
  {
   "cell_type": "code",
   "execution_count": null,
   "metadata": {},
   "outputs": [],
   "source": []
  },
  {
   "cell_type": "markdown",
   "metadata": {},
   "source": [
    "* Write a preprocessing step that will resize and crop the image to 299 x 299, with some randomness for data augmentation."
   ]
  },
  {
   "cell_type": "code",
   "execution_count": null,
   "metadata": {},
   "outputs": [],
   "source": []
  },
  {
   "cell_type": "markdown",
   "metadata": {},
   "source": [
    "* Using the pretrained Inception v3 model from the previous exercise, freeze all layers up to the bottleneck layer (i.e., the last layer before the output layer), and replace the output layer with the appropriate number of outputs for your new classification task (e.g., the flowers dataset has five mutually exclusive classes so the output layer must have five neurons and use the softmax activation function)."
   ]
  },
  {
   "cell_type": "code",
   "execution_count": null,
   "metadata": {},
   "outputs": [],
   "source": []
  },
  {
   "cell_type": "markdown",
   "metadata": {},
   "source": [
    "* Split your dataset into training set and test set. Train the model on the training set and evaluate it on the test set."
   ]
  },
  {
   "cell_type": "code",
   "execution_count": null,
   "metadata": {},
   "outputs": [],
   "source": []
  },
  {
   "cell_type": "markdown",
   "metadata": {},
   "source": [
    "## Exercise 10\n",
    "Go through TensorFlow's DeepDream tutorial (https://goo.gl/4b2s6g). It is a fun way to familiarize yourself with various ways of visualizing the patterns learned by a CNN, and to generate art using Deep Learning."
   ]
  },
  {
   "cell_type": "code",
   "execution_count": null,
   "metadata": {},
   "outputs": [],
   "source": []
  }
 ],
 "metadata": {
  "kernelspec": {
   "display_name": "Python 3",
   "language": "python",
   "name": "python3"
  },
  "language_info": {
   "codemirror_mode": {
    "name": "ipython",
    "version": 3
   },
   "file_extension": ".py",
   "mimetype": "text/x-python",
   "name": "python",
   "nbconvert_exporter": "python",
   "pygments_lexer": "ipython3",
   "version": "3.6.5"
  }
 },
 "nbformat": 4,
 "nbformat_minor": 2
}
