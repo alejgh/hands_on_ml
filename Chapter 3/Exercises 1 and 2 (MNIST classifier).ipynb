{
 "cells": [
  {
   "cell_type": "markdown",
   "metadata": {},
   "source": [
    "# Exercise 1\n",
    "Try to build a classifier for the MNIST dataset that achieves over 97% accuracy on the test set."
   ]
  },
  {
   "cell_type": "code",
   "execution_count": 1,
   "metadata": {
    "collapsed": true
   },
   "outputs": [],
   "source": [
    "from __future__ import division, print_function\n",
    "\n",
    "import matplotlib.pyplot as plt\n",
    "import numpy as np\n",
    "\n",
    "from sklearn.datasets import fetch_mldata\n",
    "from sklearn.model_selection import train_test_split, cross_val_predict, cross_val_score\n",
    "\n",
    "%matplotlib inline"
   ]
  },
  {
   "cell_type": "code",
   "execution_count": 2,
   "metadata": {
    "collapsed": true
   },
   "outputs": [],
   "source": [
    "DIGIT_SIZE_X = 28\n",
    "DIGIT_SIZE_Y = 28"
   ]
  },
  {
   "cell_type": "markdown",
   "metadata": {},
   "source": [
    "Utility functions used to measure the performance of the classifier:"
   ]
  },
  {
   "cell_type": "code",
   "execution_count": 3,
   "metadata": {
    "collapsed": true
   },
   "outputs": [],
   "source": [
    "from matplotlib import cm\n",
    "from sklearn.metrics import confusion_matrix, f1_score, precision_score, recall_score\n",
    "\n",
    "\n",
    "def measure_performance(clf, X, y):\n",
    "    y_pred = clf.predict(X)\n",
    "    accuracy = np.sum(y_pred == y) / y.shape[0]\n",
    "    print('Accuracy: ', accuracy * 100, '%')\n",
    "    conf_matrix = confusion_matrix(y, y_pred)\n",
    "    conf_matrix_norm = normalize_confusion_matrix(conf_matrix)\n",
    "    plot_confusion_matrix(conf_matrix_norm)\n",
    "\n",
    "\n",
    "def normalize_confusion_matrix(conf_matrix):\n",
    "    row_sums = conf_matrix.sum(axis=1, keepdims=True)\n",
    "    conf_matrix_norm = conf_matrix / row_sums\n",
    "    np.fill_diagonal(conf_matrix_norm, 0)\n",
    "    return conf_matrix_norm\n",
    "\n",
    "\n",
    "def plot_confusion_matrix(matrix):\n",
    "    fig = plt.figure(figsize=(8,8))\n",
    "    ax = fig.add_subplot(111)\n",
    "    cax = ax.matshow(matrix, cmap=cm.get_cmap('viridis'))\n",
    "    fig.colorbar(cax)"
   ]
  },
  {
   "cell_type": "markdown",
   "metadata": {},
   "source": [
    "Loading and preparing the data:"
   ]
  },
  {
   "cell_type": "code",
   "execution_count": 4,
   "metadata": {
    "collapsed": true
   },
   "outputs": [],
   "source": [
    "mnist = fetch_mldata('MNIST original')\n",
    "X, y = mnist['data'], mnist['target']\n",
    "X_train, X_test, y_train, y_test = train_test_split(X, y, test_size=0.2, random_state=2)"
   ]
  },
  {
   "cell_type": "markdown",
   "metadata": {},
   "source": [
    "## Neural network\n",
    "First we will train to obtain the best hyperparameters for the neural network using GridSearchCV:"
   ]
  },
  {
   "cell_type": "code",
   "execution_count": 5,
   "metadata": {
    "collapsed": true
   },
   "outputs": [],
   "source": [
    "from sklearn.model_selection import GridSearchCV\n",
    "from sklearn.neural_network import MLPClassifier\n",
    "from sklearn.pipeline import Pipeline\n",
    "from sklearn.preprocessing import StandardScaler\n",
    "\n",
    "alpha_options = 10.0 ** -np.arange(1, 7)\n",
    "solvers = ['lbfgs', 'sgd', 'adam']\n",
    "hidden_layer_options = [(100,), (100, 100), (200,), (200,150), (200, 125, 50)]\n",
    "\n",
    "param_grid = [\n",
    "    {\n",
    "        'alpha': alpha_options,\n",
    "        'solver': solvers,\n",
    "        'hidden_layer_sizes': hidden_layer_options,\n",
    "    }\n",
    "]\n",
    "\n",
    "mlp_clf = MLPClassifier()\n",
    "grid = GridSearchCV(mlp_clf, cv=3, param_grid=param_grid)\n",
    "scaler = StandardScaler()\n",
    "X_train_scaled = scaler.fit_transform(X_train, y_train)\n",
    "grid.fit(X_train_scaled, y_train)\n",
    "grid.best_params_"
   ]
  },
  {
   "cell_type": "markdown",
   "metadata": {},
   "source": [
    "Now we can create a MLPClassifier using the parameters previously obtained, and we measure its performance on the test set:"
   ]
  },
  {
   "cell_type": "code",
   "execution_count": 6,
   "metadata": {},
   "outputs": [
    {
     "name": "stderr",
     "output_type": "stream",
     "text": [
      "/Users/alejandro/anaconda/envs/ml/lib/python2.7/site-packages/sklearn/utils/validation.py:444: DataConversionWarning: Data with input dtype uint8 was converted to float64 by StandardScaler.\n",
      "  warnings.warn(msg, DataConversionWarning)\n"
     ]
    },
    {
     "name": "stdout",
     "output_type": "stream",
     "text": [
      "Accuracy:  97.2928571429 %\n"
     ]
    },
    {
     "data": {
      "image/png": "[encoded data removed]",
      "text/plain": [
       "<matplotlib.figure.Figure at 0x10e76c590>"
      ]
     },
     "metadata": {},
     "output_type": "display_data"
    }
   ],
   "source": [
    "mlp_clf = MLPClassifier(hidden_layer_sizes=(200,), alpha=10.0 ** -3, solver='adam')\n",
    "scaler = StandardScaler()\n",
    "\n",
    "pipeline = Pipeline([('scaler', scaler), ('neural_net', mlp_clf)])\n",
    "pipeline.fit(X_train, y_train)\n",
    "\n",
    "measure_performance(pipeline, X_test, y_test)"
   ]
  },
  {
   "cell_type": "markdown",
   "metadata": {},
   "source": [
    "The accuracy is over 97%. As we can see, most errors come from confusing twos, sevens, and eights with the digit 3. However, the digit 3 itself is not confused with other digits so much. "
   ]
  },
  {
   "cell_type": "markdown",
   "metadata": {
    "collapsed": true
   },
   "source": [
    "# Exercise 2\n",
    "Write a function that can shift an MNIST image in any direction (left, right, up, or down) by one pixel. Then, for each image in the training set, create four shifted copies (one per direction) and add them to the training set. Finally, train your best model on this expanded training set and measure its accuracy on the test set."
   ]
  },
  {
   "cell_type": "code",
   "execution_count": 7,
   "metadata": {
    "collapsed": true,
    "scrolled": true
   },
   "outputs": [],
   "source": [
    "from scipy.ndimage.interpolation import shift\n",
    "\n",
    "\n",
    "def shift_digits(X, y):\n",
    "    shifted_digits = list()\n",
    "\n",
    "    for index, digit in enumerate(X):\n",
    "        digit = np.reshape(digit, (DIGIT_SIZE_X, DIGIT_SIZE_Y))\n",
    "        shifted_digits.append(shift(digit, (-1,  0)))     # left\n",
    "        shifted_digits.append(shift(digit, ( 1,  0)))     # right\n",
    "        shifted_digits.append(shift(digit, ( 0,  1)))     # up\n",
    "        shifted_digits.append(shift(digit, ( 0, -1)))     # down\n",
    "        new_y = [y[index] for i in range(4)]\n",
    "        y = np.concatenate((y, new_y))\n",
    "\n",
    "    shifted_digits = [np.reshape(digit, (DIGIT_SIZE_X * DIGIT_SIZE_Y,))\n",
    "                      for digit in shifted_digits]\n",
    "    return np.concatenate((X, shifted_digits)), y\n",
    "\n",
    "\n",
    "X_train, y_train = shift_digits(X_train, y_train)"
   ]
  },
  {
   "cell_type": "code",
   "execution_count": 8,
   "metadata": {},
   "outputs": [
    {
     "name": "stdout",
     "output_type": "stream",
     "text": [
      "Accuracy:  98.1785714286 %\n"
     ]
    },
    {
     "data": {
      "image/png": "[encoded data removed]",
      "text/plain": [
       "<matplotlib.figure.Figure at 0x11dc1f210>"
      ]
     },
     "metadata": {},
     "output_type": "display_data"
    }
   ],
   "source": [
    "mlp_clf = MLPClassifier(hidden_layer_sizes=(200,), alpha=10.0 ** -3, solver='adam')\n",
    "scaler = StandardScaler()\n",
    "\n",
    "pipeline = Pipeline([('scaler', scaler), ('neural_net', mlp_clf)])\n",
    "pipeline.fit(X_train, y_train)\n",
    "\n",
    "measure_performance(pipeline, X_test, y_test)"
   ]
  },
  {
   "cell_type": "markdown",
   "metadata": {
    "collapsed": true
   },
   "source": [
    "After adding the shifted images to the train set, the accuracy of the classifier increased to 98.17%"
   ]
  }
 ],
 "metadata": {
  "kernelspec": {
   "display_name": "Python 2",
   "language": "python",
   "name": "python2"
  },
  "language_info": {
   "codemirror_mode": {
    "name": "ipython",
    "version": 2
   },
   "file_extension": ".py",
   "mimetype": "text/x-python",
   "name": "python",
   "nbconvert_exporter": "python",
   "pygments_lexer": "ipython2",
   "version": "2.7.14"
  },
  "nbTranslate": {
   "displayLangs": [
    "en",
    "es"
   ],
   "hotkey": "alt-t",
   "langInMainMenu": true,
   "sourceLang": "es",
   "targetLang": "en",
   "useGoogleTranslate": true
  }
 },
 "nbformat": 4,
 "nbformat_minor": 2
}
