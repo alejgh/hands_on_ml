{
 "cells": [
  {
   "cell_type": "markdown",
   "metadata": {},
   "source": [
    "# Exercise 1\n",
    "Try to build a classifier for the MNIST dataset that achieves over 97% accuracy on the test set."
   ]
  },
  {
   "cell_type": "code",
   "execution_count": null,
   "metadata": {
    "collapsed": true
   },
   "outputs": [],
   "source": [
    "from __future__ import division, print_function\n",
    "\n",
    "import matplotlib.pyplot as plt\n",
    "import numpy as np\n",
    "\n",
    "from sklearn.datasets import fetch_mldata\n",
    "from sklearn.model_selection import train_test_split, cross_val_predict, cross_val_score\n",
    "\n",
    "%matplotlib inline"
   ]
  },
  {
   "cell_type": "markdown",
   "metadata": {},
   "source": [
    "Utility functions used to measure the performance of each classifier:"
   ]
  },
  {
   "cell_type": "code",
   "execution_count": null,
   "metadata": {
    "collapsed": true
   },
   "outputs": [],
   "source": [
    "from matplotlib import cm\n",
    "from sklearn.metrics import confusion_matrix, f1_score, precision_score, recall_score\n",
    "\n",
    "\n",
    "def measure_performance(clf, X, y):\n",
    "    accuracy = get_accuracy(clf, X, y)\n",
    "    print('Accuracy: ', accuracy)\n",
    "    conf_matrix = confusion_matrix(y_train, y_pred)\n",
    "    conf_matrix_norm = normalize_confusion_matrix(conf_matrix)\n",
    "    plot_confusion_matrix(conf_matrix_norm)\n",
    "\n",
    "    \n",
    "def get_accuracy(clf, X, y):\n",
    "    y_pred = clf.predict(X)\n",
    "    return np.sum(y_pred == y) / y.shape[0]\n",
    "\n",
    "\n",
    "def normalize_confusion_matrix(conf_matrix):\n",
    "    row_sums = conf_matrix.sum(axis=1, keepdims=True)\n",
    "    conf_matrix_norm = conf_matrix / row_sums\n",
    "    np.fill_diagonal(conf_matrix_norm, 0)\n",
    "    return conf_matrix_norm\n",
    "\n",
    "\n",
    "def plot_confusion_matrix(matrix):\n",
    "    fig = plt.figure(figsize=(8,8))\n",
    "    ax = fig.add_subplot(111)\n",
    "    cax = ax.matshow(matrix, cmap=cm.get_cmap('viridis'))\n",
    "    fig.colorbar(cax)"
   ]
  },
  {
   "cell_type": "markdown",
   "metadata": {},
   "source": [
    "Loading and preparing the data:"
   ]
  },
  {
   "cell_type": "code",
   "execution_count": null,
   "metadata": {
    "collapsed": true
   },
   "outputs": [],
   "source": [
    "mnist = fetch_mldata('MNIST original')\n",
    "X, y = mnist['data'], mnist['target']\n",
    "X_train, X_test, y_train, y_test = train_test_split(X, y, test_size=0.2, random_state=2)"
   ]
  },
  {
   "cell_type": "markdown",
   "metadata": {},
   "source": [
    "## Neural network\n",
    "First we will train to obtain the best hyperparameters for the neural network using GridSearchCV:"
   ]
  },
  {
   "cell_type": "code",
   "execution_count": null,
   "metadata": {},
   "outputs": [
    {
     "name": "stderr",
     "output_type": "stream",
     "text": [
      "/Users/alejandro/anaconda/envs/ml/lib/python2.7/site-packages/sklearn/utils/validation.py:444: DataConversionWarning: Data with input dtype uint8 was converted to float64 by StandardScaler.\n",
      "  warnings.warn(msg, DataConversionWarning)\n",
      "/Users/alejandro/anaconda/envs/ml/lib/python2.7/site-packages/sklearn/neural_network/multilayer_perceptron.py:564: ConvergenceWarning: Stochastic Optimizer: Maximum iterations (200) reached and the optimization hasn't converged yet.\n",
      "  % self.max_iter, ConvergenceWarning)\n",
      "/Users/alejandro/anaconda/envs/ml/lib/python2.7/site-packages/sklearn/neural_network/multilayer_perceptron.py:566: UserWarning: Training interrupted by user.\n",
      "  warnings.warn(\"Training interrupted by user.\")\n"
     ]
    }
   ],
   "source": [
    "from sklearn.model_selection import GridSearchCV\n",
    "from sklearn.neural_network import MLPClassifier\n",
    "from sklearn.pipeline import Pipeline\n",
    "from sklearn.preprocessing import StandardScaler\n",
    "\n",
    "alpha_options = 10.0 ** -np.arange(1, 7)\n",
    "solvers = ['lbfgs', 'sgd', 'adam']\n",
    "hidden_layer_options = [(100,), (100, 100), (200,), (200,150), (200, 125, 50)]\n",
    "\n",
    "param_grid = [\n",
    "    {\n",
    "        'alpha': alpha_options,\n",
    "        'solver': solvers,\n",
    "        'hidden_layer_sizes': hidden_layer_options,\n",
    "    }\n",
    "]\n",
    "\n",
    "mlp_clf = MLPClassifier()\n",
    "grid = GridSearchCV(mlp_clf, cv=3, param_grid=param_grid)\n",
    "scaler = StandardScaler()\n",
    "X_train_scaled = scaler.fit_transform(X_train, y_train)\n",
    "grid.fit(X_train_scaled, y_train)\n",
    "grid.best_params_"
   ]
  },
  {
   "cell_type": "markdown",
   "metadata": {},
   "source": [
    "Now we can create a MLPClassifier using the parameters previously obtained, and we measure its performance on the test set:"
   ]
  },
  {
   "cell_type": "code",
   "execution_count": null,
   "metadata": {
    "collapsed": true
   },
   "outputs": [],
   "source": [
    "mlp_clf = MLPClassifier(hidden_layer_sizes=(200,), alpha=10.0 ** -3, solver='adam')\n",
    "mlp_clf.fit(X_train, y_train)\n",
    "pipeline = Pipeline([('scaler', scaler), ('neural_net', mlp_clf)])\n",
    "\n",
    "measure_performance(pipeline, X_test, y_test)"
   ]
  },
  {
   "cell_type": "code",
   "execution_count": null,
   "metadata": {
    "collapsed": true
   },
   "outputs": [],
   "source": []
  }
 ],
 "metadata": {
  "kernelspec": {
   "display_name": "Python 2",
   "language": "python",
   "name": "python2"
  },
  "language_info": {
   "codemirror_mode": {
    "name": "ipython",
    "version": 2
   },
   "file_extension": ".py",
   "mimetype": "text/x-python",
   "name": "python",
   "nbconvert_exporter": "python",
   "pygments_lexer": "ipython2",
   "version": "2.7.14"
  },
  "nbTranslate": {
   "displayLangs": [
    "en",
    "es"
   ],
   "hotkey": "alt-t",
   "langInMainMenu": true,
   "sourceLang": "es",
   "targetLang": "en",
   "useGoogleTranslate": true
  }
 },
 "nbformat": 4,
 "nbformat_minor": 2
}
