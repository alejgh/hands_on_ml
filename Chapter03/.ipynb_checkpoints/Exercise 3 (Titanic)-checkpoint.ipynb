{
 "cells": [
  {
   "cell_type": "markdown",
   "metadata": {},
   "source": [
    "# Exercise 3\n",
    "Tackle the Titanic dataset (https://www.kaggle.com/c/titanic)."
   ]
  },
  {
   "cell_type": "code",
   "execution_count": 3,
   "metadata": {
    "collapsed": true
   },
   "outputs": [],
   "source": [
    "from __future__ import division, print_function\n",
    "\n",
    "import os\n",
    "\n",
    "import matplotlib.pyplot as plt\n",
    "import numpy as np\n",
    "import pandas as pd\n"
   ]
  },
  {
   "cell_type": "code",
   "execution_count": 4,
   "metadata": {
    "collapsed": true
   },
   "outputs": [],
   "source": [
    "import matplotlib\n",
    "\n",
    "%matplotlib inline\n",
    "matplotlib.style.use('seaborn')"
   ]
  },
  {
   "cell_type": "code",
   "execution_count": 5,
   "metadata": {
    "collapsed": true
   },
   "outputs": [],
   "source": [
    "RANDOM_STATE_SEED = 2\n",
    "DATASET_DIR = 'datasets'\n",
    "\n",
    "def load_data(filename):\n",
    "    file_location = os.path.join(DATASET_DIR, filename)\n",
    "    return pd.read_csv(file_location)\n",
    "\n",
    "df = load_data('titanic.csv')"
   ]
  },
  {
   "cell_type": "code",
   "execution_count": 6,
   "metadata": {},
   "outputs": [
    {
     "data": {
      "text/html": [
       "<div>\n",
       "<style>\n",
       "    .dataframe thead tr:only-child th {\n",
       "        text-align: right;\n",
       "    }\n",
       "\n",
       "    .dataframe thead th {\n",
       "        text-align: left;\n",
       "    }\n",
       "\n",
       "    .dataframe tbody tr th {\n",
       "        vertical-align: top;\n",
       "    }\n",
       "</style>\n",
       "<table border=\"1\" class=\"dataframe\">\n",
       "  <thead>\n",
       "    <tr style=\"text-align: right;\">\n",
       "      <th></th>\n",
       "      <th>PassengerId</th>\n",
       "      <th>Survived</th>\n",
       "      <th>Pclass</th>\n",
       "      <th>Name</th>\n",
       "      <th>Sex</th>\n",
       "      <th>Age</th>\n",
       "      <th>SibSp</th>\n",
       "      <th>Parch</th>\n",
       "      <th>Ticket</th>\n",
       "      <th>Fare</th>\n",
       "      <th>Cabin</th>\n",
       "      <th>Embarked</th>\n",
       "    </tr>\n",
       "  </thead>\n",
       "  <tbody>\n",
       "    <tr>\n",
       "      <th>0</th>\n",
       "      <td>1</td>\n",
       "      <td>0</td>\n",
       "      <td>3</td>\n",
       "      <td>Braund, Mr. Owen Harris</td>\n",
       "      <td>male</td>\n",
       "      <td>22.0</td>\n",
       "      <td>1</td>\n",
       "      <td>0</td>\n",
       "      <td>A/5 21171</td>\n",
       "      <td>7.2500</td>\n",
       "      <td>NaN</td>\n",
       "      <td>S</td>\n",
       "    </tr>\n",
       "    <tr>\n",
       "      <th>1</th>\n",
       "      <td>2</td>\n",
       "      <td>1</td>\n",
       "      <td>1</td>\n",
       "      <td>Cumings, Mrs. John Bradley (Florence Briggs Th...</td>\n",
       "      <td>female</td>\n",
       "      <td>38.0</td>\n",
       "      <td>1</td>\n",
       "      <td>0</td>\n",
       "      <td>PC 17599</td>\n",
       "      <td>71.2833</td>\n",
       "      <td>C85</td>\n",
       "      <td>C</td>\n",
       "    </tr>\n",
       "    <tr>\n",
       "      <th>2</th>\n",
       "      <td>3</td>\n",
       "      <td>1</td>\n",
       "      <td>3</td>\n",
       "      <td>Heikkinen, Miss. Laina</td>\n",
       "      <td>female</td>\n",
       "      <td>26.0</td>\n",
       "      <td>0</td>\n",
       "      <td>0</td>\n",
       "      <td>STON/O2. 3101282</td>\n",
       "      <td>7.9250</td>\n",
       "      <td>NaN</td>\n",
       "      <td>S</td>\n",
       "    </tr>\n",
       "    <tr>\n",
       "      <th>3</th>\n",
       "      <td>4</td>\n",
       "      <td>1</td>\n",
       "      <td>1</td>\n",
       "      <td>Futrelle, Mrs. Jacques Heath (Lily May Peel)</td>\n",
       "      <td>female</td>\n",
       "      <td>35.0</td>\n",
       "      <td>1</td>\n",
       "      <td>0</td>\n",
       "      <td>113803</td>\n",
       "      <td>53.1000</td>\n",
       "      <td>C123</td>\n",
       "      <td>S</td>\n",
       "    </tr>\n",
       "    <tr>\n",
       "      <th>4</th>\n",
       "      <td>5</td>\n",
       "      <td>0</td>\n",
       "      <td>3</td>\n",
       "      <td>Allen, Mr. William Henry</td>\n",
       "      <td>male</td>\n",
       "      <td>35.0</td>\n",
       "      <td>0</td>\n",
       "      <td>0</td>\n",
       "      <td>373450</td>\n",
       "      <td>8.0500</td>\n",
       "      <td>NaN</td>\n",
       "      <td>S</td>\n",
       "    </tr>\n",
       "  </tbody>\n",
       "</table>\n",
       "</div>"
      ],
      "text/plain": [
       "   PassengerId  Survived  Pclass  \\\n",
       "0            1         0       3   \n",
       "1            2         1       1   \n",
       "2            3         1       3   \n",
       "3            4         1       1   \n",
       "4            5         0       3   \n",
       "\n",
       "                                                Name     Sex   Age  SibSp  \\\n",
       "0                            Braund, Mr. Owen Harris    male  22.0      1   \n",
       "1  Cumings, Mrs. John Bradley (Florence Briggs Th...  female  38.0      1   \n",
       "2                             Heikkinen, Miss. Laina  female  26.0      0   \n",
       "3       Futrelle, Mrs. Jacques Heath (Lily May Peel)  female  35.0      1   \n",
       "4                           Allen, Mr. William Henry    male  35.0      0   \n",
       "\n",
       "   Parch            Ticket     Fare Cabin Embarked  \n",
       "0      0         A/5 21171   7.2500   NaN        S  \n",
       "1      0          PC 17599  71.2833   C85        C  \n",
       "2      0  STON/O2. 3101282   7.9250   NaN        S  \n",
       "3      0            113803  53.1000  C123        S  \n",
       "4      0            373450   8.0500   NaN        S  "
      ]
     },
     "execution_count": 6,
     "metadata": {},
     "output_type": "execute_result"
    }
   ],
   "source": [
    "df.head()"
   ]
  },
  {
   "cell_type": "code",
   "execution_count": 7,
   "metadata": {
    "scrolled": true
   },
   "outputs": [
    {
     "name": "stdout",
     "output_type": "stream",
     "text": [
      "<class 'pandas.core.frame.DataFrame'>\n",
      "RangeIndex: 891 entries, 0 to 890\n",
      "Data columns (total 12 columns):\n",
      "PassengerId    891 non-null int64\n",
      "Survived       891 non-null int64\n",
      "Pclass         891 non-null int64\n",
      "Name           891 non-null object\n",
      "Sex            891 non-null object\n",
      "Age            714 non-null float64\n",
      "SibSp          891 non-null int64\n",
      "Parch          891 non-null int64\n",
      "Ticket         891 non-null object\n",
      "Fare           891 non-null float64\n",
      "Cabin          204 non-null object\n",
      "Embarked       889 non-null object\n",
      "dtypes: float64(2), int64(5), object(5)\n",
      "memory usage: 83.6+ KB\n"
     ]
    }
   ],
   "source": [
    "df.info()"
   ]
  },
  {
   "cell_type": "markdown",
   "metadata": {},
   "source": [
    "As we can see above, we are missing two 'embarked' values, some 'age' values as well as most of the 'cabin' values."
   ]
  },
  {
   "cell_type": "code",
   "execution_count": 8,
   "metadata": {
    "scrolled": false
   },
   "outputs": [
    {
     "data": {
      "text/plain": [
       "array([[<matplotlib.axes._subplots.AxesSubplot object at 0x10e3c23d0>,\n",
       "        <matplotlib.axes._subplots.AxesSubplot object at 0x10e47ad50>,\n",
       "        <matplotlib.axes._subplots.AxesSubplot object at 0x10e4ea850>],\n",
       "       [<matplotlib.axes._subplots.AxesSubplot object at 0x111911590>,\n",
       "        <matplotlib.axes._subplots.AxesSubplot object at 0x111993890>,\n",
       "        <matplotlib.axes._subplots.AxesSubplot object at 0x111a057d0>],\n",
       "       [<matplotlib.axes._subplots.AxesSubplot object at 0x111a8b990>,\n",
       "        <matplotlib.axes._subplots.AxesSubplot object at 0x111b07190>,\n",
       "        <matplotlib.axes._subplots.AxesSubplot object at 0x111b88490>]], dtype=object)"
      ]
     },
     "execution_count": 8,
     "metadata": {},
     "output_type": "execute_result"
    },
    {
     "data": {
      "image/png": "[encoded data removed]",
      "text/plain": [
       "<matplotlib.figure.Figure at 0x1071b11d0>"
      ]
     },
     "metadata": {},
     "output_type": "display_data"
    }
   ],
   "source": [
    "df.hist(bins=35, figsize=(20,15))"
   ]
  },
  {
   "cell_type": "markdown",
   "metadata": {},
   "source": [
    "In order to create the train and test sets we will use stratified sampling, so we can avoid biased results:"
   ]
  },
  {
   "cell_type": "code",
   "execution_count": 9,
   "metadata": {
    "collapsed": true
   },
   "outputs": [],
   "source": [
    "from sklearn.model_selection import StratifiedShuffleSplit\n",
    "\n",
    "split = StratifiedShuffleSplit(n_splits=1, test_size=0.2, random_state=RANDOM_STATE_SEED)\n",
    "for train_index, test_index in split.split(df, df['Survived']):\n",
    "    train_set = df.loc[train_index]\n",
    "    test_set = df.loc[test_index]"
   ]
  },
  {
   "cell_type": "code",
   "execution_count": 10,
   "metadata": {
    "collapsed": true
   },
   "outputs": [],
   "source": [
    "X_train = train_set.loc[:, train_set.columns != 'Survived']\n",
    "y_train = train_set.loc[:, 'Survived']\n",
    "X_test = test_set.loc[:, test_set.columns != 'Survived']\n",
    "y_test = test_set.loc[:, 'Survived']"
   ]
  },
  {
   "cell_type": "markdown",
   "metadata": {},
   "source": [
    "## Data cleaning"
   ]
  },
  {
   "cell_type": "code",
   "execution_count": 11,
   "metadata": {
    "collapsed": true
   },
   "outputs": [],
   "source": [
    "from sklearn.base import BaseEstimator, TransformerMixin\n",
    "from sklearn.pipeline import FeatureUnion, Pipeline\n",
    "from sklearn.preprocessing import Imputer, LabelEncoder, StandardScaler"
   ]
  },
  {
   "cell_type": "code",
   "execution_count": 12,
   "metadata": {
    "collapsed": true
   },
   "outputs": [],
   "source": [
    "class DataFrameLabelEncoder():\n",
    "    def __init__(self, columns_to_encode):\n",
    "        self.columns = columns_to_encode\n",
    "        self.encoders = []\n",
    "    \n",
    "    def fit(self, X, y=None):\n",
    "        if self.encoders:\n",
    "            return self\n",
    "        \n",
    "        for column in self.columns:\n",
    "            encoder = LabelEncoder()\n",
    "            encoder.fit(X[column])\n",
    "            self.encoders.append((column, encoder))\n",
    "        return self\n",
    "        \n",
    "    def transform(self, X, y=None):\n",
    "        encoded_df = []\n",
    "        for col_name, encoder in self.encoders:\n",
    "            encoded_df.append(encoder.transform(X[col_name]))\n",
    "        return np.asarray(encoded_df).transpose()\n",
    "    \n",
    "    def fit_transform(self, X, y=None):\n",
    "        return self.fit(X).transform(X)"
   ]
  },
  {
   "cell_type": "code",
   "execution_count": 13,
   "metadata": {
    "collapsed": true
   },
   "outputs": [],
   "source": [
    "class DataframeSelector(BaseEstimator, TransformerMixin):\n",
    "    def __init__(self, columns):\n",
    "        self.columns = columns\n",
    "        \n",
    "    def fit(self, X, y=None):\n",
    "        return self\n",
    "    \n",
    "    def transform(self, X, y=None):\n",
    "        return X[self.columns].as_matrix()"
   ]
  },
  {
   "cell_type": "code",
   "execution_count": 14,
   "metadata": {},
   "outputs": [
    {
     "name": "stderr",
     "output_type": "stream",
     "text": [
      "/Users/alejandro/anaconda/envs/ml/lib/python2.7/site-packages/numpy/lib/arraysetops.py:216: FutureWarning: numpy not_equal will not check object identity in the future. The comparison did not return the same result as suggested by the identity (`is`)) and will change.\n",
      "  flag = np.concatenate(([True], aux[1:] != aux[:-1]))\n",
      "/Users/alejandro/anaconda/envs/ml/lib/python2.7/site-packages/numpy/lib/arraysetops.py:275: FutureWarning: numpy equal will not check object identity in the future. The comparison did not return the same result as suggested by the identity (`is`)) and will change.\n",
      "  return aux[:-1][aux[1:] == aux[:-1]]\n"
     ]
    }
   ],
   "source": [
    "numerical_columns = ['Age', 'Fare']\n",
    "columns_to_encode = ['Sex', 'Embarked']\n",
    "remaining_columns = ['Pclass', 'SibSp', 'Parch']\n",
    "\n",
    "num_pipeline = Pipeline([\n",
    "    ('selector', DataframeSelector(numerical_columns)),\n",
    "    ('imputer', Imputer(strategy='median')),\n",
    "    ('scaler', StandardScaler())\n",
    "])\n",
    "encoder = DataFrameLabelEncoder(columns_to_encode)\n",
    "remaining_col_selector = DataframeSelector(remaining_columns)\n",
    "\n",
    "\n",
    "preprocessing_pipeline = FeatureUnion(transformer_list=[\n",
    "    ('num_pipeline', num_pipeline),\n",
    "    ('encoder', encoder),\n",
    "    ('rem_col_selector', remaining_col_selector)\n",
    "])\n",
    "\n",
    "X_train = preprocessing_pipeline.fit_transform(X_train)"
   ]
  },
  {
   "cell_type": "markdown",
   "metadata": {},
   "source": [
    "## Training a model\n",
    "In this case we will try to use a random forest classifier:"
   ]
  },
  {
   "cell_type": "code",
   "execution_count": 29,
   "metadata": {},
   "outputs": [
    {
     "data": {
      "text/plain": [
       "{'bootstrap': True,\n",
       " 'criterion': 'gini',\n",
       " 'max_features': 5,\n",
       " 'min_samples_leaf': 2,\n",
       " 'min_samples_split': 8,\n",
       " 'n_estimators': 15}"
      ]
     },
     "execution_count": 29,
     "metadata": {},
     "output_type": "execute_result"
    }
   ],
   "source": [
    "from sklearn.ensemble import RandomForestClassifier\n",
    "from sklearn.model_selection import GridSearchCV\n",
    "\n",
    "param_grid = {\n",
    "    \"n_estimators\": [7, 10, 12, 15],\n",
    "    \"max_features\": [1, 2, 3, 4, 5],\n",
    "    \"min_samples_split\": [2, 5, 8, 11],\n",
    "    \"min_samples_leaf\": [2, 5, 8, 11],\n",
    "    \"bootstrap\": [True, False],\n",
    "    \"criterion\": [\"gini\", \"entropy\"]\n",
    "}\n",
    "\n",
    "grid_cv = GridSearchCV(RandomForestClassifier(), param_grid)\n",
    "grid_cv.fit(X_train, y_train)\n",
    "grid_cv.best_params_"
   ]
  },
  {
   "cell_type": "code",
   "execution_count": 30,
   "metadata": {
    "collapsed": true
   },
   "outputs": [],
   "source": [
    "from sklearn.model_selection import cross_val_predict\n",
    "\n",
    "rnd_forest_clf = RandomForestClassifier(bootstrap=True, criterion='gini',\n",
    "                                        max_features=5, min_samples_leaf=2,\n",
    "                                        min_samples_split=8, n_estimators=15)\n",
    "y_train_pred = cross_val_predict(rnd_forest_clf, X_train, y_train, cv=5)\n",
    "y_train_prob = cross_val_predict(rnd_forest_clf, X_train, y_train, cv=5, method='predict_proba')"
   ]
  },
  {
   "cell_type": "markdown",
   "metadata": {},
   "source": [
    "y_train_prob is a 2d array containing the 'probability' that a person has survived and the probability that it hasn't survived, for each person in the training set. We only need the probability that a person has survived (second column of the matrix), so we will get rid of the first column. Furthermore, the first column can be infered from the second one (and viceversa):"
   ]
  },
  {
   "cell_type": "code",
   "execution_count": 31,
   "metadata": {},
   "outputs": [
    {
     "data": {
      "text/plain": [
       "array([[ 0.86774411,  0.13225589],\n",
       "       [ 0.78619436,  0.21380564],\n",
       "       [ 0.63878788,  0.36121212],\n",
       "       [ 0.73992785,  0.26007215],\n",
       "       [ 0.40371856,  0.59628144]])"
      ]
     },
     "execution_count": 31,
     "metadata": {},
     "output_type": "execute_result"
    }
   ],
   "source": [
    "y_train_prob[:5]"
   ]
  },
  {
   "cell_type": "code",
   "execution_count": 32,
   "metadata": {
    "collapsed": true
   },
   "outputs": [],
   "source": [
    "y_train_prob = y_train_prob[:, 1]"
   ]
  },
  {
   "cell_type": "markdown",
   "metadata": {},
   "source": [
    "Utility functions to measure the performance of the model. Most of them are already implemented in scikit learn, so there is no need to implement it ourselves. I just implemented them here to review these concepts:"
   ]
  },
  {
   "cell_type": "code",
   "execution_count": 33,
   "metadata": {
    "collapsed": true
   },
   "outputs": [],
   "source": [
    "from sklearn.metrics import precision_recall_curve\n",
    "\n",
    "\n",
    "def get_recall(y, y_predicted):\n",
    "    true_positives = np.sum(np.logical_and(y == y_predicted, y == 1))\n",
    "    false_negatives = np.sum(np.logical_and(y != y_predicted, y_predicted == 0))\n",
    "    return true_positives / (true_positives + false_negatives)    \n",
    "\n",
    "def get_precision(y, y_predicted):\n",
    "    true_positives = np.sum(np.logical_and(y == y_predicted, y == 1))\n",
    "    false_positives = np.sum(np.logical_and(y != y_predicted, y_predicted == 1))\n",
    "    return true_positives / (true_positives + false_positives)\n",
    "\n",
    "def get_accuracy(y, y_predicted):\n",
    "    return np.sum(y_train_pred == y_train) / y_train.shape[0]\n",
    "\n",
    "def get_f1_score(y, y_predicted):\n",
    "    recall = get_recall(y, y_predicted)\n",
    "    precision = get_precision(y, y_predicted)\n",
    "    return 2 * (precision * recall) / (precision + recall)\n",
    "\n",
    "def plot_precision_recall_vs_thresholds(y, y_probabilities):\n",
    "    precisions, recalls, thresholds = precision_recall_curve(y, y_probabilities)\n",
    "    plt.plot(thresholds, recalls[:-1], 'm:', label=\"Recall\")\n",
    "    plt.plot(thresholds, precisions[:-1], 'c-.', label=\"Precision\")\n",
    "    plt.xlabel(\"Threshold\")\n",
    "    plt.legend()\n",
    "    plt.ylim([0, 1])\n",
    "    plt.plot()\n"
   ]
  },
  {
   "cell_type": "code",
   "execution_count": 34,
   "metadata": {},
   "outputs": [
    {
     "name": "stdout",
     "output_type": "stream",
     "text": [
      "Accuracy: 0.816 - Precision: 0.801 - Recall: 0.692 - F1-Score: 0.743\n"
     ]
    }
   ],
   "source": [
    "recall = get_recall(y_train, y_train_pred)\n",
    "precision = get_precision(y_train, y_train_pred)\n",
    "accuracy = get_accuracy(y_train, y_train_pred)\n",
    "f1 = get_f1_score(y_train, y_train_pred)\n",
    "\n",
    "print(\"Accuracy: {0:.3f} - Precision: {1:.3f} - Recall: {2:.3f} - F1-Score: {3:.3f}\"\n",
    "      .format(accuracy, precision, recall, f1))"
   ]
  },
  {
   "cell_type": "code",
   "execution_count": 35,
   "metadata": {},
   "outputs": [
    {
     "data": {
      "image/png": "[encoded data removed]",
      "text/plain": [
       "<matplotlib.figure.Figure at 0x11551fb90>"
      ]
     },
     "metadata": {},
     "output_type": "display_data"
    }
   ],
   "source": [
    "plot_precision_recall_vs_thresholds(y_train, y_train_prob)"
   ]
  }
 ],
 "metadata": {
  "kernelspec": {
   "display_name": "Python 2",
   "language": "python",
   "name": "python2"
  },
  "language_info": {
   "codemirror_mode": {
    "name": "ipython",
    "version": 2
   },
   "file_extension": ".py",
   "mimetype": "text/x-python",
   "name": "python",
   "nbconvert_exporter": "python",
   "pygments_lexer": "ipython2",
   "version": "2.7.14"
  },
  "nbTranslate": {
   "displayLangs": [
    "en",
    "es"
   ],
   "hotkey": "alt-t",
   "langInMainMenu": true,
   "sourceLang": "es",
   "targetLang": "en",
   "useGoogleTranslate": true
  }
 },
 "nbformat": 4,
 "nbformat_minor": 2
}
