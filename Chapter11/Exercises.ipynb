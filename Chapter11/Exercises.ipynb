{
 "cells": [
  {
   "cell_type": "markdown",
   "metadata": {},
   "source": [
    "# Chapter 11: Training Deep Neural Nets "
   ]
  },
  {
   "cell_type": "markdown",
   "metadata": {
    "solution2": "hidden",
    "solution2_first": true
   },
   "source": [
    "## Exercise 1\n",
    "Is it okay to initialize all the weights to the same value as long as that value is selected randomly using He initialization?"
   ]
  },
  {
   "cell_type": "markdown",
   "metadata": {
    "solution2": "hidden"
   },
   "source": [
    "No. If you initiaze all the weights with the same value, even if it is obtained using He initialization, you won't break the simmetry of each layer. The neural network will behave as if it had just one neuron per layer."
   ]
  },
  {
   "cell_type": "markdown",
   "metadata": {
    "solution2": "hidden",
    "solution2_first": true
   },
   "source": [
    "## Exercise 2\n",
    "Is it okay to initialize the bias terms to 0?"
   ]
  },
  {
   "cell_type": "markdown",
   "metadata": {
    "solution2": "hidden"
   },
   "source": [
    "Yes, it is ok."
   ]
  },
  {
   "cell_type": "markdown",
   "metadata": {
    "solution2": "hidden",
    "solution2_first": true
   },
   "source": [
    "## Exercise 3\n",
    "Name three advantages of the ELU activation function over ReLU"
   ]
  },
  {
   "cell_type": "markdown",
   "metadata": {
    "solution2": "hidden"
   },
   "source": [
    "* It has a non-zero gradient when z < 0, which avoid the dying units problem.\n",
    "* The function is smooth everywhere, which speeds up gradient descent, since it does not bounce so much left and right of z = 0\n",
    "* It takes negative values when z < 0, which allows the unit to have an average output closer to 0. This helps alleviate the vanishing gradients problem"
   ]
  },
  {
   "cell_type": "markdown",
   "metadata": {
    "solution2": "hidden",
    "solution2_first": true
   },
   "source": [
    "## Exercise 4\n",
    "In which cases would you want to use each of the following activation functions: ELU, leaky ReLU (and its variants), ReLU, tanh, logistic, and softmax?"
   ]
  },
  {
   "cell_type": "markdown",
   "metadata": {
    "solution2": "hidden"
   },
   "source": [
    "* ELU: Almost always. Only drawback is that the ELU function is quite slow to compute.\n",
    "* Leaky ReLU: To avoid the dying units problem that ReLU has.\n",
    "* ReLU: Need speed. Good default, but ELU and Leaky ReLU can be better.\n",
    "* Tanh: If you need to output a number between 1 and -1. Rarely used.\n",
    "* Logistic: To estimate probabilities. Also rarely used.\n",
    "* Softmax: You need to output probabilities of mutually exclusive classes. Usually used in the output layer for classification tasks."
   ]
  },
  {
   "cell_type": "markdown",
   "metadata": {
    "solution2": "hidden",
    "solution2_first": true
   },
   "source": [
    "## Exercise 5\n",
    "What may happen if you set the momentum hyperparameter too close to 1 (e.g. 0.99999) when using a MomentumOptimizer?"
   ]
  },
  {
   "cell_type": "markdown",
   "metadata": {
    "solution2": "hidden"
   },
   "source": [
    "If you set the momentum hyperparameter too close to 1 the system will have almost no friction, so the gradient steps can get too high and the system may not converge to a good solution."
   ]
  },
  {
   "cell_type": "markdown",
   "metadata": {
    "solution2": "hidden",
    "solution2_first": true
   },
   "source": [
    "## Exercise 6\n",
    "Name three ways you can produce a sparse model."
   ]
  },
  {
   "cell_type": "markdown",
   "metadata": {
    "solution2": "hidden"
   },
   "source": [
    "* Setting to 0 all the weights with really small values.\n",
    "* Using a high $l1$ regularization during training, which will force the optimizer to zero out as many weights as it can.\n",
    "* Applying other techniques, such as Follow The Regularized Leader."
   ]
  },
  {
   "cell_type": "markdown",
   "metadata": {
    "solution2": "hidden",
    "solution2_first": true
   },
   "source": [
    "## Exercise 7\n",
    "Does dropout slow down training? Does it slow down inference (i.e. making predictions on new instances)?"
   ]
  },
  {
   "cell_type": "markdown",
   "metadata": {
    "solution2": "hidden"
   },
   "source": [
    "Dropout will slow training a bit, but inference will be the same (you only have to multiply the output of each neuron by the keep ratio)."
   ]
  },
  {
   "cell_type": "markdown",
   "metadata": {
    "solution2": "shown",
    "solution2_first": true
   },
   "source": [
    "## Exercise 8\n",
    "Deep Learning\n",
    "* a) Build a DNN with five hidden layers of 100 neurons each, He initialization, and the ELU activation function."
   ]
  },
  {
   "cell_type": "code",
   "execution_count": 58,
   "metadata": {
    "solution2": "shown"
   },
   "outputs": [],
   "source": [
    "import tensorflow as tf\n",
    "\n",
    "he_init = tf.contrib.layers.variance_scaling_initializer()\n",
    "\n",
    "def build_dnn_ex8a(X):\n",
    "    hidden_1 = tf.layers.dense(X, 100, activation=tf.nn.elu, kernel_initializer=he_init, name=\"hidden1\")\n",
    "    hidden_2 = tf.layers.dense(hidden_1, 100, activation=tf.nn.elu, kernel_initializer=he_init, name=\"hidden2\")\n",
    "    hidden_3 = tf.layers.dense(hidden_2, 100, activation=tf.nn.elu, kernel_initializer=he_init, name=\"hidden3\")\n",
    "    hidden_4 = tf.layers.dense(hidden_3, 100, activation=tf.nn.elu, kernel_initializer=he_init, name=\"hidden4\")\n",
    "    hidden_5 = tf.layers.dense(hidden_4, 100, activation=tf.nn.elu, kernel_initializer=he_init, name=\"hidden5\")\n",
    "    return hidden_5"
   ]
  },
  {
   "cell_type": "markdown",
   "metadata": {
    "solution2": "shown",
    "solution2_first": true
   },
   "source": [
    "* b) Using Adam optimization and early stopping, try training it on MNIST but only on digits 0 to 4, as we will use transfer learning for digits 5 to 9 in the next exercise. You will need a softmax output layer with five neurons, and as always make sure to save checkpoints at regular intervals and save the final model so you can reuse it later."
   ]
  },
  {
   "cell_type": "code",
   "execution_count": 76,
   "metadata": {
    "scrolled": true,
    "solution2": "shown"
   },
   "outputs": [
    {
     "name": "stdout",
     "output_type": "stream",
     "text": [
      "Extracting MNIST_data/train-images-idx3-ubyte.gz\n",
      "Extracting MNIST_data/train-labels-idx1-ubyte.gz\n",
      "Extracting MNIST_data/t10k-images-idx3-ubyte.gz\n",
      "Extracting MNIST_data/t10k-labels-idx1-ubyte.gz\n",
      "0\tValidation loss: 0.073015\tBest loss: 0.073015\tAccuracy: 97.498%\n",
      "1\tValidation loss: 0.059028\tBest loss: 0.059028\tAccuracy: 98.280%\n",
      "2\tValidation loss: 0.044040\tBest loss: 0.044040\tAccuracy: 98.632%\n",
      "3\tValidation loss: 0.040519\tBest loss: 0.040519\tAccuracy: 98.944%\n",
      "4\tValidation loss: 0.040727\tBest loss: 0.040519\tAccuracy: 98.866%\n",
      "5\tValidation loss: 0.035412\tBest loss: 0.035412\tAccuracy: 98.905%\n",
      "6\tValidation loss: 0.045298\tBest loss: 0.035412\tAccuracy: 98.866%\n",
      "7\tValidation loss: 0.034796\tBest loss: 0.034796\tAccuracy: 99.062%\n",
      "8\tValidation loss: 0.036038\tBest loss: 0.034796\tAccuracy: 98.984%\n",
      "9\tValidation loss: 0.039586\tBest loss: 0.034796\tAccuracy: 99.023%\n",
      "10\tValidation loss: 0.040684\tBest loss: 0.034796\tAccuracy: 99.101%\n",
      "11\tValidation loss: 0.030625\tBest loss: 0.030625\tAccuracy: 99.062%\n",
      "12\tValidation loss: 0.032405\tBest loss: 0.030625\tAccuracy: 99.101%\n",
      "13\tValidation loss: 0.064438\tBest loss: 0.030625\tAccuracy: 98.514%\n",
      "14\tValidation loss: 0.039641\tBest loss: 0.030625\tAccuracy: 99.218%\n",
      "15\tValidation loss: 0.061577\tBest loss: 0.030625\tAccuracy: 98.671%\n",
      "16\tValidation loss: 0.041579\tBest loss: 0.030625\tAccuracy: 98.944%\n",
      "17\tValidation loss: 0.038528\tBest loss: 0.030625\tAccuracy: 99.101%\n",
      "18\tValidation loss: 0.039693\tBest loss: 0.030625\tAccuracy: 99.140%\n",
      "19\tValidation loss: 0.021984\tBest loss: 0.021984\tAccuracy: 99.453%\n",
      "20\tValidation loss: 0.050172\tBest loss: 0.021984\tAccuracy: 98.749%\n",
      "21\tValidation loss: 0.063310\tBest loss: 0.021984\tAccuracy: 98.984%\n",
      "22\tValidation loss: 0.069170\tBest loss: 0.021984\tAccuracy: 98.944%\n",
      "23\tValidation loss: 0.047716\tBest loss: 0.021984\tAccuracy: 99.257%\n",
      "24\tValidation loss: 0.041963\tBest loss: 0.021984\tAccuracy: 99.296%\n",
      "25\tValidation loss: 0.044987\tBest loss: 0.021984\tAccuracy: 99.218%\n",
      "26\tValidation loss: 0.029224\tBest loss: 0.021984\tAccuracy: 99.609%\n",
      "27\tValidation loss: 0.028582\tBest loss: 0.021984\tAccuracy: 99.414%\n",
      "28\tValidation loss: 0.027352\tBest loss: 0.021984\tAccuracy: 99.492%\n",
      "29\tValidation loss: 0.026052\tBest loss: 0.021984\tAccuracy: 99.414%\n",
      "30\tValidation loss: 0.025966\tBest loss: 0.021984\tAccuracy: 99.531%\n",
      "31\tValidation loss: 0.026172\tBest loss: 0.021984\tAccuracy: 99.531%\n",
      "32\tValidation loss: 0.026401\tBest loss: 0.021984\tAccuracy: 99.492%\n",
      "33\tValidation loss: 0.026628\tBest loss: 0.021984\tAccuracy: 99.492%\n",
      "34\tValidation loss: 0.026848\tBest loss: 0.021984\tAccuracy: 99.492%\n",
      "35\tValidation loss: 0.027060\tBest loss: 0.021984\tAccuracy: 99.492%\n",
      "36\tValidation loss: 0.027265\tBest loss: 0.021984\tAccuracy: 99.492%\n",
      "37\tValidation loss: 0.027463\tBest loss: 0.021984\tAccuracy: 99.492%\n",
      "38\tValidation loss: 0.027656\tBest loss: 0.021984\tAccuracy: 99.492%\n",
      "No progress after 39 epochs. Stopping...\n",
      "INFO:tensorflow:Restoring parameters from ./mnist_digits_0-4.ckpt\n",
      "Final test accuracy: 99.455%\n"
     ]
    }
   ],
   "source": [
    "import numpy as np\n",
    "from tensorflow.examples.tutorials.mnist import input_data\n",
    "\n",
    "\n",
    "class MnistData():\n",
    "    def __init__(self, min_digit=0, max_digit=9):\n",
    "        mnist = input_data.read_data_sets(\"MNIST_data/\", one_hot=True)\n",
    "        digit_filter = np.vectorize(lambda t: t >= min_digit and t <= max_digit)\n",
    "        train_idx = digit_filter(np.argmax(mnist.train.labels, axis=1))\n",
    "        validation_idx = digit_filter(np.argmax(mnist.validation.labels, axis=1))\n",
    "        test_idx = digit_filter(np.argmax(mnist.test.labels, axis=1))\n",
    "        self.train_images = mnist.train.images[train_idx]\n",
    "        self.train_labels = mnist.train.labels[train_idx, min_digit:max_digit+1]\n",
    "        self.validation_images = mnist.validation.images[validation_idx]\n",
    "        self.validation_labels = mnist.validation.labels[validation_idx, min_digit:max_digit+1]\n",
    "        self.test_images = mnist.test.images[test_idx]\n",
    "        self.test_labels = mnist.test.labels[test_idx, min_digit:max_digit+1]\n",
    "        \n",
    "def fetch_batch(batch_size, batch_idx, X, y):\n",
    "    start = batch_idx * batch_size\n",
    "    end = (batch_idx + 1) * batch_size\n",
    "    batch_x = X[start:end]\n",
    "    batch_y = y[start:end]\n",
    "    return batch_x, batch_y\n",
    "\n",
    "tf.reset_default_graph()\n",
    "sess = tf.InteractiveSession()\n",
    "\n",
    "# build dnn\n",
    "mnist = MnistData(min_digit=0, max_digit=4)\n",
    "num_samples = np.shape(mnist.train_images)[0]\n",
    "num_features = np.shape(mnist.train_images)[1]\n",
    "num_classes = np.shape(mnist.train_labels)[1]\n",
    "\n",
    "X = tf.placeholder(tf.float32, shape=[None, num_features], name=\"x_input\")\n",
    "y = tf.placeholder(tf.float32, shape=[None, num_classes], name=\"y_input\")\n",
    "dnn = build_dnn_ex8a(X)\n",
    "output = tf.layers.dense(dnn, num_classes, activation=None, kernel_initializer=he_init, name=\"logits\")\n",
    "\n",
    "# training  \n",
    "with tf.name_scope('loss'):\n",
    "    loss_op = tf.reduce_mean(tf.nn.softmax_cross_entropy_with_logits(labels=y, logits=output))\n",
    "\n",
    "with tf.name_scope('train'):\n",
    "    optimizer = tf.train.AdamOptimizer()\n",
    "    training_op = optimizer.minimize(loss_op)\n",
    "\n",
    "with tf.name_scope('accuracy'):\n",
    "    softmax = tf.nn.softmax(output)\n",
    "    correct = tf.equal(tf.argmax(softmax, axis=1), tf.argmax(y, axis=1))\n",
    "    accuracy_op = tf.reduce_mean(tf.cast(correct, tf.float32))\n",
    "    \n",
    "saver = tf.train.Saver()\n",
    "initializer = tf.global_variables_initializer()\n",
    "\n",
    "sess.run(initializer)\n",
    "\n",
    "num_epochs = 1000\n",
    "batch_size = 100\n",
    "num_batches = num_samples // batch_size\n",
    "\n",
    "MAX_CHECKS_NO_PROGRESS = 20\n",
    "checks_no_progress = 0\n",
    "best_loss = np.inf\n",
    "for epoch in range(num_epochs):\n",
    "    for batch in range(num_batches):\n",
    "        # training step\n",
    "        X_batch, y_batch = fetch_batch(batch_size, batch, mnist.train_images, mnist.train_labels)\n",
    "        sess.run(training_op, feed_dict={X: X_batch, y: y_batch})\n",
    "    \n",
    "    loss, acc = sess.run([loss_op, accuracy_op], feed_dict={X: mnist.validation_images, y: mnist.validation_labels})\n",
    "    if loss < best_loss:\n",
    "        best_loss = loss\n",
    "        checks_no_progress = 0\n",
    "        saver.save(sess, \"./mnist_digits_0-4.ckpt\")\n",
    "    else:\n",
    "        checks_no_progress += 1\n",
    "        if checks_no_progress >= MAX_CHECKS_NO_PROGRESS:\n",
    "            print(\"No progress after {} epochs. Stopping...\".format(epoch))\n",
    "            break\n",
    "    print(\"{}\\tValidation loss: {:.6f}\\tBest loss: {:.6f}\\tAccuracy: {:.3f}%\".format(\n",
    "        epoch, loss, best_loss, acc * 100))\n",
    "    \n",
    "saver.restore(sess, \"./mnist_digits_0-4.ckpt\")\n",
    "acc_test = accuracy_op.eval(feed_dict={X: mnist.test_images, y: mnist.test_labels})\n",
    "print(\"Final test accuracy: {:.3f}%\".format(acc_test * 100))"
   ]
  },
  {
   "cell_type": "markdown",
   "metadata": {},
   "source": [
    "* c) Tune the hyperparameters using cross-validation and see what precision you can achieve."
   ]
  },
  {
   "cell_type": "code",
   "execution_count": null,
   "metadata": {},
   "outputs": [],
   "source": [
    "from sklearn.exceptions import NotFittedError\n",
    "\n",
    "class DNNClassifier():\n",
    "    def __init__(self, hidden_layers=5, num_neurons=100, num_epochs=500, optimizer=tf.train.AdamOptimizer,\n",
    "                 batch_size=100, learning_rate=1e-4, activation=tf.nn.elu, initializer=he_init,\n",
    "                 batch_norm_momentum=None, dropout_rate=None, random_seed=42):\n",
    "        self.hidden_layers = hidden_layers\n",
    "        self.num_neurons = num_neurons\n",
    "        self.optimizer = optimizer\n",
    "        self.batch_size = batch_size\n",
    "        self.learning_rate = learning_rate\n",
    "        self.activation = activation\n",
    "        self.initializer = initializer\n",
    "        self.batch_norm_momentum = batch_norm_momentum\n",
    "        self.dropout_rate = dropout_rate\n",
    "        self.random_seed = random_seed\n",
    "        self.session = None\n",
    "    \n",
    "    def fit(self, X, y):\n",
    "        pass\n",
    "    \n",
    "    def predict(self, X):\n",
    "        if self.session is None:\n",
    "            raise NotFittedError()\n",
    "        else:\n",
    "            pass\n",
    "    \n",
    "    def _predict_proba(self, X):\n",
    "        pass\n",
    "    \n",
    "    def _build_graph(self):\n",
    "        pass"
   ]
  },
  {
   "cell_type": "markdown",
   "metadata": {},
   "source": [
    "* d) Now try adding Batch Normalization and compare the learning curves: is it converging faster than before? Does it produce a better model?"
   ]
  },
  {
   "cell_type": "code",
   "execution_count": null,
   "metadata": {},
   "outputs": [],
   "source": []
  },
  {
   "cell_type": "markdown",
   "metadata": {},
   "source": [
    "* e) Is the model overfitting the training set? Try adding dropout to every layer and try again. Does it help?"
   ]
  },
  {
   "cell_type": "markdown",
   "metadata": {},
   "source": [
    "## Exercise 9\n",
    "\n",
    "Transfer learning:\n",
    "* Create a new DNN that reuses all the pretrained hidden layers of the previous model, freezes them, and replaces the softmax output layer with a new one.\n",
    "* Train this new DNN on digits 5 to 9, using only 100 images per digit, and time how long it takes. Despite this small number of examples, can you achieve high precision?\n",
    "* Try caching the frozen layers, and train the model again: how much faster is it now?\n",
    "* Try again reusing just four hidden layers instead of five. Can you achieve a higher precision?\n",
    "* Now unfreeze the top two hidden layers and continue training: can you get the model to perform even better?"
   ]
  },
  {
   "cell_type": "markdown",
   "metadata": {},
   "source": [
    "## Exercise 10\n",
    "\n",
    "Pretraining on an auxiliary task.\n",
    "* In this exercise you will build a DNN that compares two MNIST digit images and predicts whether they represent the same digit or not. Then you will reuse the lower layers of this network to train an MNIST classifier using very little training data. Start by building two DNNs (let's call them DNN A and B), both similar to the one you built earlier but without the output layer: each DNN should have five hidden layers of 100 neurons each, He initialization, and ELU activation. Next, add a single output layer on top of both DNNs. You should use TensorFlow's concat() function with axis=1 to concatenate the output of both DNNs along the horizontal axis, then feed the result to the output layer. This output layer should contain a single neuron using the logistic activation function.\n",
    "* Split the MNIST training set in two sets: split #1 should copntain 55,000 images, and split #2 should contain 5,000 images. Create a function that generates a training batch where each instance is a pair of MNIST images pickled from split #1. Half of the training instances should be pairs of images that belong to the same class, while the other half should be images from different classes. For each pair, the training label should be 0 if the images are from the same class, or 1 if they are from different classes.\n",
    "* Train the DNN on this training set. For each image pair, you can simultaneously feed the first image to DNN A and the second image to DNN B. The whole network will gradually learn to tell whether two images belond to the same class or not.\n",
    "* Now create a new DNN by reusing and freezing the hidden layers of DNN A, and adding a softmax output layer on with 10 neurons. Train this network on split #2 and see if you can achieve high performance despite having only 500 images per class."
   ]
  }
 ],
 "metadata": {
  "kernelspec": {
   "display_name": "Python 3",
   "language": "python",
   "name": "python3"
  },
  "language_info": {
   "codemirror_mode": {
    "name": "ipython",
    "version": 3
   },
   "file_extension": ".py",
   "mimetype": "text/x-python",
   "name": "python",
   "nbconvert_exporter": "python",
   "pygments_lexer": "ipython3",
   "version": "3.6.5"
  }
 },
 "nbformat": 4,
 "nbformat_minor": 2
}
